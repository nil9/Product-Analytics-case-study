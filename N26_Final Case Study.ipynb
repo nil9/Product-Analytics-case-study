{
 "cells": [
  {
   "cell_type": "code",
   "execution_count": 1,
   "id": "43df2b8f",
   "metadata": {},
   "outputs": [],
   "source": [
    "## import all the necessary packages\n",
    "\n",
    "import pandas as pd\n",
    "import matplotlib.pyplot as plt\n",
    "import seaborn as sb\n",
    "#plt.style.use('ggplot')\n",
    "import matplotlib.patches as mpatches"
   ]
  },
  {
   "cell_type": "code",
   "execution_count": 2,
   "id": "18d4a34d",
   "metadata": {},
   "outputs": [],
   "source": [
    "## read first data set\n",
    "df = pd.read_csv(r'C:\\Users\\Nil\\Downloads\\Product_Data_Analytics_test_case_\\n26_funnel_steps.csv')"
   ]
  },
  {
   "cell_type": "code",
   "execution_count": 3,
   "id": "461874d8",
   "metadata": {},
   "outputs": [
    {
     "data": {
      "text/html": [
       "<div>\n",
       "<style scoped>\n",
       "    .dataframe tbody tr th:only-of-type {\n",
       "        vertical-align: middle;\n",
       "    }\n",
       "\n",
       "    .dataframe tbody tr th {\n",
       "        vertical-align: top;\n",
       "    }\n",
       "\n",
       "    .dataframe thead th {\n",
       "        text-align: right;\n",
       "    }\n",
       "</style>\n",
       "<table border=\"1\" class=\"dataframe\">\n",
       "  <thead>\n",
       "    <tr style=\"text-align: right;\">\n",
       "      <th></th>\n",
       "      <th>user_id</th>\n",
       "      <th>funnel_step</th>\n",
       "      <th>timestamp</th>\n",
       "    </tr>\n",
       "  </thead>\n",
       "  <tbody>\n",
       "    <tr>\n",
       "      <th>0</th>\n",
       "      <td>b64caac4-c6a8-4b85-b504-2bbd3e28e175</td>\n",
       "      <td>sign_up_initiated</td>\n",
       "      <td>2019-01-05 23:00:00</td>\n",
       "    </tr>\n",
       "    <tr>\n",
       "      <th>1</th>\n",
       "      <td>77d7332a-3220-49e2-bd86-780a421926ac</td>\n",
       "      <td>sign_up_initiated</td>\n",
       "      <td>2019-01-27 02:00:00</td>\n",
       "    </tr>\n",
       "    <tr>\n",
       "      <th>2</th>\n",
       "      <td>24fcc884-8938-49f1-ae3b-3d33ed3a9c53</td>\n",
       "      <td>sign_up_initiated</td>\n",
       "      <td>2019-01-30 02:00:00</td>\n",
       "    </tr>\n",
       "  </tbody>\n",
       "</table>\n",
       "</div>"
      ],
      "text/plain": [
       "                                user_id        funnel_step  \\\n",
       "0  b64caac4-c6a8-4b85-b504-2bbd3e28e175  sign_up_initiated   \n",
       "1  77d7332a-3220-49e2-bd86-780a421926ac  sign_up_initiated   \n",
       "2  24fcc884-8938-49f1-ae3b-3d33ed3a9c53  sign_up_initiated   \n",
       "\n",
       "             timestamp  \n",
       "0  2019-01-05 23:00:00  \n",
       "1  2019-01-27 02:00:00  \n",
       "2  2019-01-30 02:00:00  "
      ]
     },
     "execution_count": 3,
     "metadata": {},
     "output_type": "execute_result"
    }
   ],
   "source": [
    "df.head(3)"
   ]
  },
  {
   "cell_type": "code",
   "execution_count": 4,
   "id": "55762602",
   "metadata": {},
   "outputs": [
    {
     "data": {
      "text/html": [
       "<div>\n",
       "<style scoped>\n",
       "    .dataframe tbody tr th:only-of-type {\n",
       "        vertical-align: middle;\n",
       "    }\n",
       "\n",
       "    .dataframe tbody tr th {\n",
       "        vertical-align: top;\n",
       "    }\n",
       "\n",
       "    .dataframe thead th {\n",
       "        text-align: right;\n",
       "    }\n",
       "</style>\n",
       "<table border=\"1\" class=\"dataframe\">\n",
       "  <thead>\n",
       "    <tr style=\"text-align: right;\">\n",
       "      <th></th>\n",
       "      <th>0</th>\n",
       "    </tr>\n",
       "  </thead>\n",
       "  <tbody>\n",
       "    <tr>\n",
       "      <th>user_id</th>\n",
       "      <td>0.0</td>\n",
       "    </tr>\n",
       "    <tr>\n",
       "      <th>funnel_step</th>\n",
       "      <td>0.0</td>\n",
       "    </tr>\n",
       "    <tr>\n",
       "      <th>timestamp</th>\n",
       "      <td>0.0</td>\n",
       "    </tr>\n",
       "  </tbody>\n",
       "</table>\n",
       "</div>"
      ],
      "text/plain": [
       "               0\n",
       "user_id      0.0\n",
       "funnel_step  0.0\n",
       "timestamp    0.0"
      ]
     },
     "execution_count": 4,
     "metadata": {},
     "output_type": "execute_result"
    }
   ],
   "source": [
    "## check for missing values parcentage calculations \n",
    "round(100 *df.isna().sum() / df.shape[0], 2).to_frame()"
   ]
  },
  {
   "cell_type": "code",
   "execution_count": 5,
   "id": "d51119f4",
   "metadata": {},
   "outputs": [
    {
     "data": {
      "text/plain": [
       "array(['sign_up_initiated', 'sign_up_completed', 'kyc_completed',\n",
       "       'first_deposit'], dtype=object)"
      ]
     },
     "execution_count": 5,
     "metadata": {},
     "output_type": "execute_result"
    }
   ],
   "source": [
    "df[\"funnel_step\"].unique()"
   ]
  },
  {
   "cell_type": "code",
   "execution_count": 6,
   "id": "e802d256",
   "metadata": {},
   "outputs": [],
   "source": [
    "df1= df.drop_duplicates() # it will keep the 1st occurance of the duplicated rows and delete the other rows."
   ]
  },
  {
   "cell_type": "code",
   "execution_count": 7,
   "id": "f83cd268",
   "metadata": {},
   "outputs": [
    {
     "data": {
      "text/plain": [
       "(52412, 3)"
      ]
     },
     "execution_count": 7,
     "metadata": {},
     "output_type": "execute_result"
    }
   ],
   "source": [
    "df1.shape"
   ]
  },
  {
   "cell_type": "code",
   "execution_count": 8,
   "id": "83a1a6b1",
   "metadata": {},
   "outputs": [],
   "source": [
    "## read the second dataset\n",
    "df_user = pd.read_csv(r'C:\\Users\\Nil\\Downloads\\Product_Data_Analytics_test_case_\\n26_users.csv')"
   ]
  },
  {
   "cell_type": "code",
   "execution_count": 9,
   "id": "87a3b4cd",
   "metadata": {},
   "outputs": [
    {
     "data": {
      "text/html": [
       "<div>\n",
       "<style scoped>\n",
       "    .dataframe tbody tr th:only-of-type {\n",
       "        vertical-align: middle;\n",
       "    }\n",
       "\n",
       "    .dataframe tbody tr th {\n",
       "        vertical-align: top;\n",
       "    }\n",
       "\n",
       "    .dataframe thead th {\n",
       "        text-align: right;\n",
       "    }\n",
       "</style>\n",
       "<table border=\"1\" class=\"dataframe\">\n",
       "  <thead>\n",
       "    <tr style=\"text-align: right;\">\n",
       "      <th></th>\n",
       "      <th>user_id</th>\n",
       "      <th>channel</th>\n",
       "      <th>market</th>\n",
       "      <th>platform</th>\n",
       "      <th>age</th>\n",
       "    </tr>\n",
       "  </thead>\n",
       "  <tbody>\n",
       "    <tr>\n",
       "      <th>0</th>\n",
       "      <td>b64caac4-c6a8-4b85-b504-2bbd3e28e175</td>\n",
       "      <td>organic</td>\n",
       "      <td>FRA</td>\n",
       "      <td>ios</td>\n",
       "      <td>35</td>\n",
       "    </tr>\n",
       "    <tr>\n",
       "      <th>1</th>\n",
       "      <td>77d7332a-3220-49e2-bd86-780a421926ac</td>\n",
       "      <td>organic</td>\n",
       "      <td>FRA</td>\n",
       "      <td>ios</td>\n",
       "      <td>20</td>\n",
       "    </tr>\n",
       "    <tr>\n",
       "      <th>2</th>\n",
       "      <td>24fcc884-8938-49f1-ae3b-3d33ed3a9c53</td>\n",
       "      <td>paid_social</td>\n",
       "      <td>FRA</td>\n",
       "      <td>ios</td>\n",
       "      <td>25</td>\n",
       "    </tr>\n",
       "  </tbody>\n",
       "</table>\n",
       "</div>"
      ],
      "text/plain": [
       "                                user_id      channel market platform  age\n",
       "0  b64caac4-c6a8-4b85-b504-2bbd3e28e175      organic    FRA      ios   35\n",
       "1  77d7332a-3220-49e2-bd86-780a421926ac      organic    FRA      ios   20\n",
       "2  24fcc884-8938-49f1-ae3b-3d33ed3a9c53  paid_social    FRA      ios   25"
      ]
     },
     "execution_count": 9,
     "metadata": {},
     "output_type": "execute_result"
    }
   ],
   "source": [
    "df_user.head(3)"
   ]
  },
  {
   "cell_type": "code",
   "execution_count": 10,
   "id": "2c098cce",
   "metadata": {},
   "outputs": [
    {
     "data": {
      "text/html": [
       "<div>\n",
       "<style scoped>\n",
       "    .dataframe tbody tr th:only-of-type {\n",
       "        vertical-align: middle;\n",
       "    }\n",
       "\n",
       "    .dataframe tbody tr th {\n",
       "        vertical-align: top;\n",
       "    }\n",
       "\n",
       "    .dataframe thead th {\n",
       "        text-align: right;\n",
       "    }\n",
       "</style>\n",
       "<table border=\"1\" class=\"dataframe\">\n",
       "  <thead>\n",
       "    <tr style=\"text-align: right;\">\n",
       "      <th></th>\n",
       "      <th>0</th>\n",
       "    </tr>\n",
       "  </thead>\n",
       "  <tbody>\n",
       "    <tr>\n",
       "      <th>user_id</th>\n",
       "      <td>0.0</td>\n",
       "    </tr>\n",
       "    <tr>\n",
       "      <th>channel</th>\n",
       "      <td>0.0</td>\n",
       "    </tr>\n",
       "    <tr>\n",
       "      <th>market</th>\n",
       "      <td>0.0</td>\n",
       "    </tr>\n",
       "    <tr>\n",
       "      <th>platform</th>\n",
       "      <td>0.0</td>\n",
       "    </tr>\n",
       "    <tr>\n",
       "      <th>age</th>\n",
       "      <td>0.0</td>\n",
       "    </tr>\n",
       "  </tbody>\n",
       "</table>\n",
       "</div>"
      ],
      "text/plain": [
       "            0\n",
       "user_id   0.0\n",
       "channel   0.0\n",
       "market    0.0\n",
       "platform  0.0\n",
       "age       0.0"
      ]
     },
     "execution_count": 10,
     "metadata": {},
     "output_type": "execute_result"
    }
   ],
   "source": [
    "## check for missing values parcentage calculations \n",
    "round(100 *df_user.isna().sum() / df_user.shape[0], 2).to_frame()"
   ]
  },
  {
   "cell_type": "code",
   "execution_count": 11,
   "id": "54b014ae",
   "metadata": {},
   "outputs": [
    {
     "data": {
      "text/plain": [
       "(21229, 5)"
      ]
     },
     "execution_count": 11,
     "metadata": {},
     "output_type": "execute_result"
    }
   ],
   "source": [
    "df_user.shape"
   ]
  },
  {
   "cell_type": "code",
   "execution_count": 12,
   "id": "942d4cc8",
   "metadata": {},
   "outputs": [],
   "source": [
    "df1_user= df_user.drop_duplicates() # it will keep the 1st occurance of the duplicated rows and delete the other rows."
   ]
  },
  {
   "cell_type": "code",
   "execution_count": 13,
   "id": "ca26f6e8",
   "metadata": {},
   "outputs": [
    {
     "data": {
      "text/plain": [
       "(21229, 5)"
      ]
     },
     "execution_count": 13,
     "metadata": {},
     "output_type": "execute_result"
    }
   ],
   "source": [
    "df1_user.shape"
   ]
  },
  {
   "cell_type": "code",
   "execution_count": 14,
   "id": "1ecb4942",
   "metadata": {},
   "outputs": [
    {
     "data": {
      "text/plain": [
       "(21229, 21315)"
      ]
     },
     "execution_count": 14,
     "metadata": {},
     "output_type": "execute_result"
    }
   ],
   "source": [
    "## checking inconsistency in user_ids\n",
    "\n",
    "df1_user[\"user_id\"].nunique(), df1[\"user_id\"].nunique()"
   ]
  },
  {
   "cell_type": "code",
   "execution_count": 15,
   "id": "a29bd247",
   "metadata": {},
   "outputs": [
    {
     "data": {
      "text/plain": [
       "86"
      ]
     },
     "execution_count": 15,
     "metadata": {},
     "output_type": "execute_result"
    }
   ],
   "source": [
    "## this shows the number of user which does not have user details\n",
    "df1[\"user_id\"].nunique() - df1_user[\"user_id\"].nunique()"
   ]
  },
  {
   "cell_type": "code",
   "execution_count": 16,
   "id": "ba308591",
   "metadata": {},
   "outputs": [
    {
     "data": {
      "text/html": [
       "<div>\n",
       "<style scoped>\n",
       "    .dataframe tbody tr th:only-of-type {\n",
       "        vertical-align: middle;\n",
       "    }\n",
       "\n",
       "    .dataframe tbody tr th {\n",
       "        vertical-align: top;\n",
       "    }\n",
       "\n",
       "    .dataframe thead th {\n",
       "        text-align: right;\n",
       "    }\n",
       "</style>\n",
       "<table border=\"1\" class=\"dataframe\">\n",
       "  <thead>\n",
       "    <tr style=\"text-align: right;\">\n",
       "      <th></th>\n",
       "      <th>user_id</th>\n",
       "      <th>funnel_step</th>\n",
       "      <th>timestamp</th>\n",
       "      <th>channel</th>\n",
       "      <th>market</th>\n",
       "      <th>platform</th>\n",
       "      <th>age</th>\n",
       "    </tr>\n",
       "  </thead>\n",
       "  <tbody>\n",
       "    <tr>\n",
       "      <th>0</th>\n",
       "      <td>b64caac4-c6a8-4b85-b504-2bbd3e28e175</td>\n",
       "      <td>sign_up_initiated</td>\n",
       "      <td>2019-01-05 23:00:00</td>\n",
       "      <td>organic</td>\n",
       "      <td>FRA</td>\n",
       "      <td>ios</td>\n",
       "      <td>35</td>\n",
       "    </tr>\n",
       "    <tr>\n",
       "      <th>1</th>\n",
       "      <td>b64caac4-c6a8-4b85-b504-2bbd3e28e175</td>\n",
       "      <td>sign_up_completed</td>\n",
       "      <td>2019-01-07 11:00:00</td>\n",
       "      <td>organic</td>\n",
       "      <td>FRA</td>\n",
       "      <td>ios</td>\n",
       "      <td>35</td>\n",
       "    </tr>\n",
       "    <tr>\n",
       "      <th>2</th>\n",
       "      <td>b64caac4-c6a8-4b85-b504-2bbd3e28e175</td>\n",
       "      <td>kyc_completed</td>\n",
       "      <td>2019-01-14 01:00:00</td>\n",
       "      <td>organic</td>\n",
       "      <td>FRA</td>\n",
       "      <td>ios</td>\n",
       "      <td>35</td>\n",
       "    </tr>\n",
       "    <tr>\n",
       "      <th>3</th>\n",
       "      <td>77d7332a-3220-49e2-bd86-780a421926ac</td>\n",
       "      <td>sign_up_initiated</td>\n",
       "      <td>2019-01-27 02:00:00</td>\n",
       "      <td>organic</td>\n",
       "      <td>FRA</td>\n",
       "      <td>ios</td>\n",
       "      <td>20</td>\n",
       "    </tr>\n",
       "    <tr>\n",
       "      <th>4</th>\n",
       "      <td>77d7332a-3220-49e2-bd86-780a421926ac</td>\n",
       "      <td>sign_up_completed</td>\n",
       "      <td>2019-01-28 12:00:00</td>\n",
       "      <td>organic</td>\n",
       "      <td>FRA</td>\n",
       "      <td>ios</td>\n",
       "      <td>20</td>\n",
       "    </tr>\n",
       "  </tbody>\n",
       "</table>\n",
       "</div>"
      ],
      "text/plain": [
       "                                user_id        funnel_step  \\\n",
       "0  b64caac4-c6a8-4b85-b504-2bbd3e28e175  sign_up_initiated   \n",
       "1  b64caac4-c6a8-4b85-b504-2bbd3e28e175  sign_up_completed   \n",
       "2  b64caac4-c6a8-4b85-b504-2bbd3e28e175      kyc_completed   \n",
       "3  77d7332a-3220-49e2-bd86-780a421926ac  sign_up_initiated   \n",
       "4  77d7332a-3220-49e2-bd86-780a421926ac  sign_up_completed   \n",
       "\n",
       "             timestamp  channel market platform  age  \n",
       "0  2019-01-05 23:00:00  organic    FRA      ios   35  \n",
       "1  2019-01-07 11:00:00  organic    FRA      ios   35  \n",
       "2  2019-01-14 01:00:00  organic    FRA      ios   35  \n",
       "3  2019-01-27 02:00:00  organic    FRA      ios   20  \n",
       "4  2019-01-28 12:00:00  organic    FRA      ios   20  "
      ]
     },
     "execution_count": 16,
     "metadata": {},
     "output_type": "execute_result"
    }
   ],
   "source": [
    "## inner join on user_id to remove extra user_id which has no additional information\n",
    "\n",
    "df_merged= pd.merge(df1, df1_user, on = [\"user_id\"], how='inner')\n",
    "df_merged.head(5)"
   ]
  },
  {
   "cell_type": "code",
   "execution_count": 17,
   "id": "398cacc1",
   "metadata": {},
   "outputs": [
    {
     "data": {
      "text/html": [
       "<div>\n",
       "<style scoped>\n",
       "    .dataframe tbody tr th:only-of-type {\n",
       "        vertical-align: middle;\n",
       "    }\n",
       "\n",
       "    .dataframe tbody tr th {\n",
       "        vertical-align: top;\n",
       "    }\n",
       "\n",
       "    .dataframe thead th {\n",
       "        text-align: right;\n",
       "    }\n",
       "</style>\n",
       "<table border=\"1\" class=\"dataframe\">\n",
       "  <thead>\n",
       "    <tr style=\"text-align: right;\">\n",
       "      <th></th>\n",
       "      <th>0</th>\n",
       "    </tr>\n",
       "  </thead>\n",
       "  <tbody>\n",
       "    <tr>\n",
       "      <th>user_id</th>\n",
       "      <td>0.0</td>\n",
       "    </tr>\n",
       "    <tr>\n",
       "      <th>funnel_step</th>\n",
       "      <td>0.0</td>\n",
       "    </tr>\n",
       "    <tr>\n",
       "      <th>timestamp</th>\n",
       "      <td>0.0</td>\n",
       "    </tr>\n",
       "    <tr>\n",
       "      <th>channel</th>\n",
       "      <td>0.0</td>\n",
       "    </tr>\n",
       "    <tr>\n",
       "      <th>market</th>\n",
       "      <td>0.0</td>\n",
       "    </tr>\n",
       "    <tr>\n",
       "      <th>platform</th>\n",
       "      <td>0.0</td>\n",
       "    </tr>\n",
       "    <tr>\n",
       "      <th>age</th>\n",
       "      <td>0.0</td>\n",
       "    </tr>\n",
       "  </tbody>\n",
       "</table>\n",
       "</div>"
      ],
      "text/plain": [
       "               0\n",
       "user_id      0.0\n",
       "funnel_step  0.0\n",
       "timestamp    0.0\n",
       "channel      0.0\n",
       "market       0.0\n",
       "platform     0.0\n",
       "age          0.0"
      ]
     },
     "execution_count": 17,
     "metadata": {},
     "output_type": "execute_result"
    }
   ],
   "source": [
    "## missing value check in the marged dataframe\n",
    " \n",
    "round(100 *df_merged.isna().sum() / df_merged.shape[0], 2).to_frame()"
   ]
  },
  {
   "cell_type": "code",
   "execution_count": 18,
   "id": "4fe20d30",
   "metadata": {},
   "outputs": [
    {
     "data": {
      "text/plain": [
       "(52158, 7)"
      ]
     },
     "execution_count": 18,
     "metadata": {},
     "output_type": "execute_result"
    }
   ],
   "source": [
    "## check for duplicate rows\n",
    "df_cleaned= df_merged.drop_duplicates()\n",
    "df_cleaned.shape"
   ]
  },
  {
   "cell_type": "code",
   "execution_count": 19,
   "id": "b7e17498",
   "metadata": {},
   "outputs": [
    {
     "data": {
      "text/html": [
       "<div>\n",
       "<style scoped>\n",
       "    .dataframe tbody tr th:only-of-type {\n",
       "        vertical-align: middle;\n",
       "    }\n",
       "\n",
       "    .dataframe tbody tr th {\n",
       "        vertical-align: top;\n",
       "    }\n",
       "\n",
       "    .dataframe thead th {\n",
       "        text-align: right;\n",
       "    }\n",
       "</style>\n",
       "<table border=\"1\" class=\"dataframe\">\n",
       "  <thead>\n",
       "    <tr style=\"text-align: right;\">\n",
       "      <th></th>\n",
       "      <th>user_id</th>\n",
       "      <th>funnel_step</th>\n",
       "      <th>timestamp</th>\n",
       "      <th>channel</th>\n",
       "      <th>market</th>\n",
       "      <th>platform</th>\n",
       "      <th>age</th>\n",
       "      <th>AgeGroup</th>\n",
       "    </tr>\n",
       "  </thead>\n",
       "  <tbody>\n",
       "    <tr>\n",
       "      <th>0</th>\n",
       "      <td>b64caac4-c6a8-4b85-b504-2bbd3e28e175</td>\n",
       "      <td>sign_up_initiated</td>\n",
       "      <td>2019-01-05 23:00:00</td>\n",
       "      <td>organic</td>\n",
       "      <td>FRA</td>\n",
       "      <td>ios</td>\n",
       "      <td>35</td>\n",
       "      <td>Mid-age</td>\n",
       "    </tr>\n",
       "    <tr>\n",
       "      <th>1</th>\n",
       "      <td>b64caac4-c6a8-4b85-b504-2bbd3e28e175</td>\n",
       "      <td>sign_up_completed</td>\n",
       "      <td>2019-01-07 11:00:00</td>\n",
       "      <td>organic</td>\n",
       "      <td>FRA</td>\n",
       "      <td>ios</td>\n",
       "      <td>35</td>\n",
       "      <td>Mid-age</td>\n",
       "    </tr>\n",
       "    <tr>\n",
       "      <th>2</th>\n",
       "      <td>b64caac4-c6a8-4b85-b504-2bbd3e28e175</td>\n",
       "      <td>kyc_completed</td>\n",
       "      <td>2019-01-14 01:00:00</td>\n",
       "      <td>organic</td>\n",
       "      <td>FRA</td>\n",
       "      <td>ios</td>\n",
       "      <td>35</td>\n",
       "      <td>Mid-age</td>\n",
       "    </tr>\n",
       "  </tbody>\n",
       "</table>\n",
       "</div>"
      ],
      "text/plain": [
       "                                user_id        funnel_step  \\\n",
       "0  b64caac4-c6a8-4b85-b504-2bbd3e28e175  sign_up_initiated   \n",
       "1  b64caac4-c6a8-4b85-b504-2bbd3e28e175  sign_up_completed   \n",
       "2  b64caac4-c6a8-4b85-b504-2bbd3e28e175      kyc_completed   \n",
       "\n",
       "             timestamp  channel market platform  age AgeGroup  \n",
       "0  2019-01-05 23:00:00  organic    FRA      ios   35  Mid-age  \n",
       "1  2019-01-07 11:00:00  organic    FRA      ios   35  Mid-age  \n",
       "2  2019-01-14 01:00:00  organic    FRA      ios   35  Mid-age  "
      ]
     },
     "execution_count": 19,
     "metadata": {},
     "output_type": "execute_result"
    }
   ],
   "source": [
    "## Add age group\n",
    "## we are goruping the ages to do further analysis\n",
    "\n",
    "bins= [17,20,30,50,75,130]\n",
    "labels = ['Teen','Young','Mid-age','Old','Very_old']\n",
    "df_cleaned['AgeGroup'] = pd.cut(df_cleaned['age'], bins=bins, labels=labels, right=False)\n",
    "\n",
    "df_cleaned.head(3)"
   ]
  },
  {
   "cell_type": "code",
   "execution_count": 20,
   "id": "f0a60d37",
   "metadata": {},
   "outputs": [
    {
     "data": {
      "text/plain": [
       "array([<AxesSubplot:ylabel='age'>], dtype=object)"
      ]
     },
     "execution_count": 20,
     "metadata": {},
     "output_type": "execute_result"
    },
    {
     "data": {
      "image/png": "[encoded data removed]",
      "text/plain": [
       "<Figure size 576x432 with 1 Axes>"
      ]
     },
     "metadata": {},
     "output_type": "display_data"
    }
   ],
   "source": [
    "## check country wise customer percentage\n",
    "\n",
    "df_unique = df_cleaned.drop_duplicates(subset=\"user_id\", keep=\"first\")\n",
    "\n",
    "df_unique.groupby(['market']).sum().plot(kind='pie', subplots=True, shadow = True,startangle=90,\n",
    "figsize=(8,6), autopct='%1.1f%%')\n"
   ]
  },
  {
   "cell_type": "code",
   "execution_count": 21,
   "id": "ce6ba3ce",
   "metadata": {},
   "outputs": [
    {
     "data": {
      "text/plain": [
       "array([<AxesSubplot:ylabel='age'>], dtype=object)"
      ]
     },
     "execution_count": 21,
     "metadata": {},
     "output_type": "execute_result"
    },
    {
     "data": {
      "image/png": "[encoded data removed]",
      "text/plain": [
       "<Figure size 576x432 with 1 Axes>"
      ]
     },
     "metadata": {},
     "output_type": "display_data"
    }
   ],
   "source": [
    "## Age group wise customer percentage\n",
    "df_unique.groupby(['AgeGroup']).sum().plot(kind='pie', subplots=True, shadow = True,startangle=90,\n",
    "figsize=(8,6), autopct='%1.1f%%')\n"
   ]
  },
  {
   "cell_type": "code",
   "execution_count": 22,
   "id": "b3500585",
   "metadata": {},
   "outputs": [
    {
     "data": {
      "image/png": "[encoded data removed]",
      "text/plain": [
       "<Figure size 720x432 with 1 Axes>"
      ]
     },
     "metadata": {
      "needs_background": "light"
     },
     "output_type": "display_data"
    }
   ],
   "source": [
    "## Age group percentage in different market\n",
    "\n",
    "stack1 = df_unique[df_unique[\"AgeGroup\"]==\"Teen\"].groupby(\"market\")[\"market\"].count()\n",
    "stack2 = df_unique[df_unique[\"AgeGroup\"].isin(['Teen','Young'])].groupby(\"market\")[\"market\"].count()\n",
    "stack3 = df_unique[df_unique[\"AgeGroup\"].isin(['Teen','Young','Mid-age'])].groupby(\"market\")[\"market\"].count()\n",
    "stack4 = df_unique[df_unique[\"AgeGroup\"].isin(['Teen','Young','Mid-age','Old'])].groupby(\"market\")[\"market\"].count()\n",
    "stack5 = df_unique[df_unique[\"AgeGroup\"].isin(['Teen','Young','Mid-age','Old','Very_old'])].groupby(\"market\")[\"market\"].count()\n",
    "stack1= (stack1/stack5) *100\n",
    "stack2= (stack2/stack5) *100\n",
    "stack3= (stack3/stack5) *100\n",
    "stack4 = (stack4/stack5) * 100\n",
    "stack5 = (stack5/stack5) * 100\n",
    "\n",
    "\n",
    "plt.figure(figsize=(10,6))\n",
    "\n",
    "bar5 = sb.barplot(x=stack5.index,  y= stack5.values, color='magenta')\n",
    "bar4 = sb.barplot(x=stack4.index,  y= stack4.values, color='yellow')\n",
    "bar3 = sb.barplot(x=stack3.index,  y= stack3.values, color='blue')\n",
    "bar2 = sb.barplot(x=stack2.index,  y= stack2.values, color='green')\n",
    "bar1 = sb.barplot(x=stack1.index,  y= stack1.values, color='red')\n",
    "bar_1  = mpatches.Patch(color='red', label='Teen')\n",
    "bar_2  = mpatches.Patch(color='green', label='Young')\n",
    "bar_3  = mpatches.Patch(color='blue', label='Mid-age')\n",
    "bar_4  = mpatches.Patch(color='yellow', label='Old')\n",
    "bar_5  = mpatches.Patch(color='magenta', label='Very_old')\n",
    "plt.legend(handles=[bar_1,bar_2,bar_3,bar_4,bar_5])\n",
    "\n",
    "\n",
    "# show the graph\n",
    "plt.show()"
   ]
  },
  {
   "cell_type": "code",
   "execution_count": 23,
   "id": "2f6097d6",
   "metadata": {},
   "outputs": [
    {
     "data": {
      "text/plain": [
       "array([<AxesSubplot:ylabel='age'>], dtype=object)"
      ]
     },
     "execution_count": 23,
     "metadata": {},
     "output_type": "execute_result"
    },
    {
     "data": {
      "image/png": "[encoded data removed]",
      "text/plain": [
       "<Figure size 576x432 with 1 Axes>"
      ]
     },
     "metadata": {},
     "output_type": "display_data"
    }
   ],
   "source": [
    "## channel wise customer percentage\n",
    "\n",
    "df_unique.groupby(['channel']).sum().plot(kind='pie', subplots=True, shadow = True,startangle=90,\n",
    "figsize=(8,6), autopct='%1.1f%%')\n"
   ]
  },
  {
   "cell_type": "code",
   "execution_count": 24,
   "id": "5f318923",
   "metadata": {},
   "outputs": [
    {
     "data": {
      "text/html": [
       "<div>\n",
       "<style scoped>\n",
       "    .dataframe tbody tr th:only-of-type {\n",
       "        vertical-align: middle;\n",
       "    }\n",
       "\n",
       "    .dataframe tbody tr th {\n",
       "        vertical-align: top;\n",
       "    }\n",
       "\n",
       "    .dataframe thead th {\n",
       "        text-align: right;\n",
       "    }\n",
       "</style>\n",
       "<table border=\"1\" class=\"dataframe\">\n",
       "  <thead>\n",
       "    <tr style=\"text-align: right;\">\n",
       "      <th></th>\n",
       "      <th>user_id</th>\n",
       "      <th>funnel_step</th>\n",
       "      <th>timestamp</th>\n",
       "      <th>channel</th>\n",
       "      <th>market</th>\n",
       "      <th>platform</th>\n",
       "      <th>age</th>\n",
       "      <th>AgeGroup</th>\n",
       "    </tr>\n",
       "  </thead>\n",
       "  <tbody>\n",
       "    <tr>\n",
       "      <th>0</th>\n",
       "      <td>b64caac4-c6a8-4b85-b504-2bbd3e28e175</td>\n",
       "      <td>sign_up_initiated</td>\n",
       "      <td>2019-01-05 23:00:00</td>\n",
       "      <td>organic</td>\n",
       "      <td>FRA</td>\n",
       "      <td>ios</td>\n",
       "      <td>35</td>\n",
       "      <td>Mid-age</td>\n",
       "    </tr>\n",
       "    <tr>\n",
       "      <th>3</th>\n",
       "      <td>77d7332a-3220-49e2-bd86-780a421926ac</td>\n",
       "      <td>sign_up_initiated</td>\n",
       "      <td>2019-01-27 02:00:00</td>\n",
       "      <td>organic</td>\n",
       "      <td>FRA</td>\n",
       "      <td>ios</td>\n",
       "      <td>20</td>\n",
       "      <td>Young</td>\n",
       "    </tr>\n",
       "    <tr>\n",
       "      <th>6</th>\n",
       "      <td>24fcc884-8938-49f1-ae3b-3d33ed3a9c53</td>\n",
       "      <td>sign_up_initiated</td>\n",
       "      <td>2019-01-30 02:00:00</td>\n",
       "      <td>paid_social</td>\n",
       "      <td>FRA</td>\n",
       "      <td>ios</td>\n",
       "      <td>25</td>\n",
       "      <td>Young</td>\n",
       "    </tr>\n",
       "  </tbody>\n",
       "</table>\n",
       "</div>"
      ],
      "text/plain": [
       "                                user_id        funnel_step  \\\n",
       "0  b64caac4-c6a8-4b85-b504-2bbd3e28e175  sign_up_initiated   \n",
       "3  77d7332a-3220-49e2-bd86-780a421926ac  sign_up_initiated   \n",
       "6  24fcc884-8938-49f1-ae3b-3d33ed3a9c53  sign_up_initiated   \n",
       "\n",
       "             timestamp      channel market platform  age AgeGroup  \n",
       "0  2019-01-05 23:00:00      organic    FRA      ios   35  Mid-age  \n",
       "3  2019-01-27 02:00:00      organic    FRA      ios   20    Young  \n",
       "6  2019-01-30 02:00:00  paid_social    FRA      ios   25    Young  "
      ]
     },
     "execution_count": 24,
     "metadata": {},
     "output_type": "execute_result"
    }
   ],
   "source": [
    "df_unique.head(3)"
   ]
  },
  {
   "cell_type": "code",
   "execution_count": 25,
   "id": "62b74d47",
   "metadata": {},
   "outputs": [
    {
     "data": {
      "text/plain": [
       "array([<AxesSubplot:ylabel='age'>], dtype=object)"
      ]
     },
     "execution_count": 25,
     "metadata": {},
     "output_type": "execute_result"
    },
    {
     "data": {
      "image/png": "[encoded data removed]",
      "text/plain": [
       "<Figure size 576x432 with 1 Axes>"
      ]
     },
     "metadata": {},
     "output_type": "display_data"
    }
   ],
   "source": [
    "## Age group wise customer percentage when channel is organic\n",
    "df_unique[df_unique[\"channel\"]== \"organic\"].groupby(['AgeGroup']).sum().plot(kind='pie', subplots=True, shadow = True,startangle=90,\n",
    "figsize=(8,6), autopct='%1.1f%%')\n"
   ]
  },
  {
   "cell_type": "code",
   "execution_count": 26,
   "id": "90676a80",
   "metadata": {},
   "outputs": [
    {
     "data": {
      "text/plain": [
       "array([<AxesSubplot:ylabel='age'>], dtype=object)"
      ]
     },
     "execution_count": 26,
     "metadata": {},
     "output_type": "execute_result"
    },
    {
     "data": {
      "image/png": "[encoded data removed]",
      "text/plain": [
       "<Figure size 576x432 with 1 Axes>"
      ]
     },
     "metadata": {},
     "output_type": "display_data"
    }
   ],
   "source": [
    "## Age group wise customer percentage when channel is affiliate\n",
    "df_unique[df_unique[\"channel\"]== \"affiliate\"].groupby(['AgeGroup']).sum().plot(kind='pie', subplots=True, shadow = True,startangle=90,\n",
    "figsize=(8,6), autopct='%1.1f%%')\n"
   ]
  },
  {
   "cell_type": "code",
   "execution_count": 27,
   "id": "68fa025d",
   "metadata": {},
   "outputs": [
    {
     "data": {
      "image/png": "[encoded data removed]",
      "text/plain": [
       "<Figure size 720x432 with 1 Axes>"
      ]
     },
     "metadata": {
      "needs_background": "light"
     },
     "output_type": "display_data"
    }
   ],
   "source": [
    "## market wise channel performance percentage\n",
    "\n",
    "stack1 = df_unique[df_unique[\"channel\"]==\"organic\"].groupby(\"market\")[\"market\"].count()\n",
    "stack2 = df_unique[df_unique[\"channel\"].isin([\"organic\", \"paid_social\"])].groupby(\"market\")[\"market\"].count()\n",
    "stack3 = df_unique[df_unique[\"channel\"].isin([\"organic\", \"paid_social\",\"affiliate\"])].groupby(\"market\")[\"market\"].count()\n",
    "stack4 = df_unique[df_unique[\"channel\"].isin([\"organic\", \"paid_social\",\"affiliate\",\"paid_search\"])].groupby(\"market\")[\"market\"].count()\n",
    "stack1= (stack1/stack4) *100\n",
    "stack2= (stack2/stack4) *100\n",
    "stack3= (stack3/stack4) *100\n",
    "stack4 = stack4/stack4 * 100\n",
    "\n",
    "\n",
    "plt.figure(figsize=(10,6))\n",
    "\n",
    "bar4 = sb.barplot(x=stack4.index,  y= stack4.values, color='yellow')\n",
    "bar3 = sb.barplot(x=stack3.index,  y= stack3.values, color='blue')\n",
    "bar2 = sb.barplot(x=stack2.index,  y= stack2.values, color='green')\n",
    "bar1 = sb.barplot(x=stack1.index,  y= stack1.values, color='red')\n",
    "bar_1  = mpatches.Patch(color='red', label='organic')\n",
    "bar_2  = mpatches.Patch(color='green', label='paid_social')\n",
    "bar_3  = mpatches.Patch(color='blue', label='affiliate')\n",
    "bar_4  = mpatches.Patch(color='yellow', label='paid_search')\n",
    "\n",
    "plt.legend(handles=[bar_1,bar_2,bar_3,bar_4])\n",
    "\n",
    "\n",
    "# show the graph\n",
    "plt.show()"
   ]
  },
  {
   "cell_type": "code",
   "execution_count": 28,
   "id": "7fc6dcb9",
   "metadata": {},
   "outputs": [
    {
     "data": {
      "text/plain": [
       "array([<AxesSubplot:ylabel='age'>], dtype=object)"
      ]
     },
     "execution_count": 28,
     "metadata": {},
     "output_type": "execute_result"
    },
    {
     "data": {
      "image/png": "[encoded data removed]",
      "text/plain": [
       "<Figure size 576x432 with 1 Axes>"
      ]
     },
     "metadata": {},
     "output_type": "display_data"
    }
   ],
   "source": [
    "## platform wise customer percentage\n",
    "\n",
    "df_unique.groupby(['platform']).sum().plot(kind='pie', subplots=True, shadow = True,startangle=90,\n",
    "figsize=(8,6), autopct='%1.1f%%')\n"
   ]
  },
  {
   "cell_type": "code",
   "execution_count": 29,
   "id": "b3b84d0f",
   "metadata": {},
   "outputs": [
    {
     "data": {
      "image/png": "[encoded data removed]",
      "text/plain": [
       "<Figure size 720x432 with 1 Axes>"
      ]
     },
     "metadata": {
      "needs_background": "light"
     },
     "output_type": "display_data"
    }
   ],
   "source": [
    "## platform wise percentage in different market\n",
    "\n",
    "stack1 = df_unique[df_unique[\"platform\"]==\"android\"].groupby(\"market\")[\"market\"].count()\n",
    "stack2 = df_unique[df_unique[\"platform\"].isin(['android','ios'])].groupby(\"market\")[\"market\"].count()\n",
    "\n",
    "stack1= (stack1/stack2) *100\n",
    "stack2= (stack2/stack2) *100\n",
    "\n",
    "\n",
    "\n",
    "plt.figure(figsize=(10,6))\n",
    "\n",
    "\n",
    "bar2 = sb.barplot(x=stack2.index,  y= stack2.values, color='green')\n",
    "bar1 = sb.barplot(x=stack1.index,  y= stack1.values, color='red')\n",
    "bar_1  = mpatches.Patch(color='red', label='android')\n",
    "bar_2  = mpatches.Patch(color='green', label='ios')\n",
    "\n",
    "plt.legend(handles=[bar_1,bar_2])\n",
    "\n",
    "\n",
    "# show the graph\n",
    "plt.show()"
   ]
  },
  {
   "cell_type": "code",
   "execution_count": 30,
   "id": "7c151280",
   "metadata": {},
   "outputs": [],
   "source": [
    "## convert timestamp to datetime field\n",
    "df_merged['timestamp'] = pd.to_datetime(df_merged['timestamp'])"
   ]
  },
  {
   "cell_type": "code",
   "execution_count": 31,
   "id": "57eb235b",
   "metadata": {},
   "outputs": [
    {
     "data": {
      "text/html": [
       "<div>\n",
       "<style scoped>\n",
       "    .dataframe tbody tr th:only-of-type {\n",
       "        vertical-align: middle;\n",
       "    }\n",
       "\n",
       "    .dataframe tbody tr th {\n",
       "        vertical-align: top;\n",
       "    }\n",
       "\n",
       "    .dataframe thead th {\n",
       "        text-align: right;\n",
       "    }\n",
       "</style>\n",
       "<table border=\"1\" class=\"dataframe\">\n",
       "  <thead>\n",
       "    <tr style=\"text-align: right;\">\n",
       "      <th></th>\n",
       "      <th>user_id</th>\n",
       "      <th>funnel_step</th>\n",
       "      <th>timestamp_x</th>\n",
       "      <th>channel</th>\n",
       "      <th>market</th>\n",
       "      <th>platform</th>\n",
       "      <th>age</th>\n",
       "      <th>timestamp_y</th>\n",
       "    </tr>\n",
       "  </thead>\n",
       "  <tbody>\n",
       "    <tr>\n",
       "      <th>0</th>\n",
       "      <td>b64caac4-c6a8-4b85-b504-2bbd3e28e175</td>\n",
       "      <td>sign_up_initiated</td>\n",
       "      <td>2019-01-05 23:00:00</td>\n",
       "      <td>organic</td>\n",
       "      <td>FRA</td>\n",
       "      <td>ios</td>\n",
       "      <td>35</td>\n",
       "      <td>1.0</td>\n",
       "    </tr>\n",
       "    <tr>\n",
       "      <th>2</th>\n",
       "      <td>77d7332a-3220-49e2-bd86-780a421926ac</td>\n",
       "      <td>sign_up_initiated</td>\n",
       "      <td>2019-01-27 02:00:00</td>\n",
       "      <td>organic</td>\n",
       "      <td>FRA</td>\n",
       "      <td>ios</td>\n",
       "      <td>20</td>\n",
       "      <td>1.0</td>\n",
       "    </tr>\n",
       "    <tr>\n",
       "      <th>4</th>\n",
       "      <td>55b9ab0e-72b8-4751-8225-623014cb877f</td>\n",
       "      <td>sign_up_initiated</td>\n",
       "      <td>2019-01-28 14:00:00</td>\n",
       "      <td>affiliate</td>\n",
       "      <td>FRA</td>\n",
       "      <td>ios</td>\n",
       "      <td>24</td>\n",
       "      <td>1.0</td>\n",
       "    </tr>\n",
       "    <tr>\n",
       "      <th>6</th>\n",
       "      <td>11f32569-a4b1-4850-a90a-e535e6242168</td>\n",
       "      <td>sign_up_initiated</td>\n",
       "      <td>2019-01-02 04:00:00</td>\n",
       "      <td>organic</td>\n",
       "      <td>FRA</td>\n",
       "      <td>ios</td>\n",
       "      <td>23</td>\n",
       "      <td>0.0</td>\n",
       "    </tr>\n",
       "    <tr>\n",
       "      <th>8</th>\n",
       "      <td>fa301541-754a-4afb-aa81-f58c0f6b4448</td>\n",
       "      <td>sign_up_initiated</td>\n",
       "      <td>2019-01-13 05:00:00</td>\n",
       "      <td>paid_search</td>\n",
       "      <td>FRA</td>\n",
       "      <td>android</td>\n",
       "      <td>77</td>\n",
       "      <td>1.0</td>\n",
       "    </tr>\n",
       "  </tbody>\n",
       "</table>\n",
       "</div>"
      ],
      "text/plain": [
       "                                user_id        funnel_step  \\\n",
       "0  b64caac4-c6a8-4b85-b504-2bbd3e28e175  sign_up_initiated   \n",
       "2  77d7332a-3220-49e2-bd86-780a421926ac  sign_up_initiated   \n",
       "4  55b9ab0e-72b8-4751-8225-623014cb877f  sign_up_initiated   \n",
       "6  11f32569-a4b1-4850-a90a-e535e6242168  sign_up_initiated   \n",
       "8  fa301541-754a-4afb-aa81-f58c0f6b4448  sign_up_initiated   \n",
       "\n",
       "          timestamp_x      channel market platform  age  timestamp_y  \n",
       "0 2019-01-05 23:00:00      organic    FRA      ios   35          1.0  \n",
       "2 2019-01-27 02:00:00      organic    FRA      ios   20          1.0  \n",
       "4 2019-01-28 14:00:00    affiliate    FRA      ios   24          1.0  \n",
       "6 2019-01-02 04:00:00      organic    FRA      ios   23          0.0  \n",
       "8 2019-01-13 05:00:00  paid_search    FRA  android   77          1.0  "
      ]
     },
     "execution_count": 31,
     "metadata": {},
     "output_type": "execute_result"
    }
   ],
   "source": [
    "## this sell check time required by customers from sign_up_initiated to sign_up_completed\n",
    "\n",
    "df_funnel_comp = df_merged.loc[df_merged['funnel_step'].isin([\"sign_up_initiated\",\"sign_up_completed\"])]\n",
    "\n",
    "start = df_funnel_comp[df_funnel_comp[\"funnel_step\"]== \"sign_up_initiated\"].groupby([\"user_id\"])['timestamp'].last()\n",
    "end = df_funnel_comp[df_funnel_comp[\"funnel_step\"]== \"sign_up_completed\"].groupby([\"user_id\"])['timestamp'].last()\n",
    "\n",
    "new_frame = (end - start).apply(lambda x : x.days ).to_frame().dropna()\n",
    "new_frame_merged= pd.merge(df_funnel_comp, new_frame, on = [\"user_id\"], how='inner')\n",
    "new_frame_merged = new_frame_merged.drop_duplicates(subset=\"user_id\", keep=\"first\")\n",
    "new_frame_merged.head(5)"
   ]
  },
  {
   "cell_type": "code",
   "execution_count": 32,
   "id": "9a990757",
   "metadata": {},
   "outputs": [
    {
     "data": {
      "text/plain": [
       "<AxesSubplot:xlabel='market', ylabel='timestamp_y'>"
      ]
     },
     "execution_count": 32,
     "metadata": {},
     "output_type": "execute_result"
    },
    {
     "data": {
      "image/png": "[encoded data removed]",
      "text/plain": [
       "<Figure size 576x432 with 1 Axes>"
      ]
     },
     "metadata": {
      "needs_background": "light"
     },
     "output_type": "display_data"
    }
   ],
   "source": [
    "## relation between market and sign_up_initiated to sign_up_completed\n",
    "\n",
    "plt.figure(figsize=(8,6))\n",
    "sb.boxplot(x=new_frame_merged[\"market\"],\n",
    "          y=new_frame_merged[\"timestamp_y\"],\n",
    "          \n",
    "          )"
   ]
  },
  {
   "cell_type": "code",
   "execution_count": 33,
   "id": "2d51a0fd",
   "metadata": {},
   "outputs": [
    {
     "data": {
      "text/html": [
       "<div>\n",
       "<style scoped>\n",
       "    .dataframe tbody tr th:only-of-type {\n",
       "        vertical-align: middle;\n",
       "    }\n",
       "\n",
       "    .dataframe tbody tr th {\n",
       "        vertical-align: top;\n",
       "    }\n",
       "\n",
       "    .dataframe thead th {\n",
       "        text-align: right;\n",
       "    }\n",
       "</style>\n",
       "<table border=\"1\" class=\"dataframe\">\n",
       "  <thead>\n",
       "    <tr style=\"text-align: right;\">\n",
       "      <th></th>\n",
       "      <th>user_id</th>\n",
       "      <th>funnel_step</th>\n",
       "      <th>timestamp_x</th>\n",
       "      <th>channel</th>\n",
       "      <th>market</th>\n",
       "      <th>platform</th>\n",
       "      <th>age</th>\n",
       "      <th>timestamp_y</th>\n",
       "    </tr>\n",
       "  </thead>\n",
       "  <tbody>\n",
       "    <tr>\n",
       "      <th>0</th>\n",
       "      <td>b64caac4-c6a8-4b85-b504-2bbd3e28e175</td>\n",
       "      <td>sign_up_initiated</td>\n",
       "      <td>2019-01-05 23:00:00</td>\n",
       "      <td>organic</td>\n",
       "      <td>FRA</td>\n",
       "      <td>ios</td>\n",
       "      <td>35</td>\n",
       "      <td>8.0</td>\n",
       "    </tr>\n",
       "    <tr>\n",
       "      <th>2</th>\n",
       "      <td>77d7332a-3220-49e2-bd86-780a421926ac</td>\n",
       "      <td>sign_up_initiated</td>\n",
       "      <td>2019-01-27 02:00:00</td>\n",
       "      <td>organic</td>\n",
       "      <td>FRA</td>\n",
       "      <td>ios</td>\n",
       "      <td>20</td>\n",
       "      <td>7.0</td>\n",
       "    </tr>\n",
       "    <tr>\n",
       "      <th>4</th>\n",
       "      <td>55b9ab0e-72b8-4751-8225-623014cb877f</td>\n",
       "      <td>sign_up_initiated</td>\n",
       "      <td>2019-01-28 14:00:00</td>\n",
       "      <td>affiliate</td>\n",
       "      <td>FRA</td>\n",
       "      <td>ios</td>\n",
       "      <td>24</td>\n",
       "      <td>8.0</td>\n",
       "    </tr>\n",
       "    <tr>\n",
       "      <th>6</th>\n",
       "      <td>11f32569-a4b1-4850-a90a-e535e6242168</td>\n",
       "      <td>sign_up_initiated</td>\n",
       "      <td>2019-01-02 04:00:00</td>\n",
       "      <td>organic</td>\n",
       "      <td>FRA</td>\n",
       "      <td>ios</td>\n",
       "      <td>23</td>\n",
       "      <td>7.0</td>\n",
       "    </tr>\n",
       "    <tr>\n",
       "      <th>8</th>\n",
       "      <td>fa301541-754a-4afb-aa81-f58c0f6b4448</td>\n",
       "      <td>sign_up_initiated</td>\n",
       "      <td>2019-01-13 05:00:00</td>\n",
       "      <td>paid_search</td>\n",
       "      <td>FRA</td>\n",
       "      <td>android</td>\n",
       "      <td>77</td>\n",
       "      <td>7.0</td>\n",
       "    </tr>\n",
       "  </tbody>\n",
       "</table>\n",
       "</div>"
      ],
      "text/plain": [
       "                                user_id        funnel_step  \\\n",
       "0  b64caac4-c6a8-4b85-b504-2bbd3e28e175  sign_up_initiated   \n",
       "2  77d7332a-3220-49e2-bd86-780a421926ac  sign_up_initiated   \n",
       "4  55b9ab0e-72b8-4751-8225-623014cb877f  sign_up_initiated   \n",
       "6  11f32569-a4b1-4850-a90a-e535e6242168  sign_up_initiated   \n",
       "8  fa301541-754a-4afb-aa81-f58c0f6b4448  sign_up_initiated   \n",
       "\n",
       "          timestamp_x      channel market platform  age  timestamp_y  \n",
       "0 2019-01-05 23:00:00      organic    FRA      ios   35          8.0  \n",
       "2 2019-01-27 02:00:00      organic    FRA      ios   20          7.0  \n",
       "4 2019-01-28 14:00:00    affiliate    FRA      ios   24          8.0  \n",
       "6 2019-01-02 04:00:00      organic    FRA      ios   23          7.0  \n",
       "8 2019-01-13 05:00:00  paid_search    FRA  android   77          7.0  "
      ]
     },
     "execution_count": 33,
     "metadata": {},
     "output_type": "execute_result"
    }
   ],
   "source": [
    "## this sell check time required by customers from sign_up_initiated to kyc_completed\n",
    "\n",
    "df_funnel_comp1 = df_merged.loc[df_merged['funnel_step'].isin([\"sign_up_initiated\",\"kyc_completed\"])]\n",
    "\n",
    "start1 = df_funnel_comp1[df_funnel_comp1[\"funnel_step\"]== \"sign_up_initiated\"].groupby([\"user_id\"])['timestamp'].last()\n",
    "end1 = df_funnel_comp1[df_funnel_comp1[\"funnel_step\"]== \"kyc_completed\"].groupby([\"user_id\"])['timestamp'].last()\n",
    "\n",
    "new_frame1 = (end1 - start1).apply(lambda x : x.days ).to_frame().dropna()\n",
    "new_frame_merged1= pd.merge(df_funnel_comp1, new_frame1, on = [\"user_id\"], how='inner')\n",
    "new_frame_merged1 = new_frame_merged1.drop_duplicates(subset=\"user_id\", keep=\"first\")\n",
    "new_frame_merged1.head(5)"
   ]
  },
  {
   "cell_type": "code",
   "execution_count": 34,
   "id": "888bce13",
   "metadata": {},
   "outputs": [
    {
     "data": {
      "text/plain": [
       "<AxesSubplot:xlabel='market', ylabel='timestamp_y'>"
      ]
     },
     "execution_count": 34,
     "metadata": {},
     "output_type": "execute_result"
    },
    {
     "data": {
      "image/png": "[encoded data removed]",
      "text/plain": [
       "<Figure size 576x432 with 1 Axes>"
      ]
     },
     "metadata": {
      "needs_background": "light"
     },
     "output_type": "display_data"
    }
   ],
   "source": [
    "## relation between market and sign_up_initiated to kyc_completed\n",
    "plt.figure(figsize=(8,6))\n",
    "sb.boxplot(x=new_frame_merged1[\"market\"],\n",
    "          y=new_frame_merged1[\"timestamp_y\"],\n",
    "          \n",
    "          )"
   ]
  },
  {
   "cell_type": "code",
   "execution_count": 35,
   "id": "f0c9bfd5",
   "metadata": {},
   "outputs": [
    {
     "data": {
      "text/html": [
       "<div>\n",
       "<style scoped>\n",
       "    .dataframe tbody tr th:only-of-type {\n",
       "        vertical-align: middle;\n",
       "    }\n",
       "\n",
       "    .dataframe tbody tr th {\n",
       "        vertical-align: top;\n",
       "    }\n",
       "\n",
       "    .dataframe thead th {\n",
       "        text-align: right;\n",
       "    }\n",
       "</style>\n",
       "<table border=\"1\" class=\"dataframe\">\n",
       "  <thead>\n",
       "    <tr style=\"text-align: right;\">\n",
       "      <th></th>\n",
       "      <th>user_id</th>\n",
       "      <th>funnel_step</th>\n",
       "      <th>timestamp_x</th>\n",
       "      <th>channel</th>\n",
       "      <th>market</th>\n",
       "      <th>platform</th>\n",
       "      <th>age</th>\n",
       "      <th>timestamp_y</th>\n",
       "    </tr>\n",
       "  </thead>\n",
       "  <tbody>\n",
       "    <tr>\n",
       "      <th>0</th>\n",
       "      <td>1717ae53-59fa-4f18-8a7f-6a78bf215521</td>\n",
       "      <td>sign_up_initiated</td>\n",
       "      <td>2019-01-14 20:00:00</td>\n",
       "      <td>organic</td>\n",
       "      <td>FRA</td>\n",
       "      <td>ios</td>\n",
       "      <td>26</td>\n",
       "      <td>12.0</td>\n",
       "    </tr>\n",
       "    <tr>\n",
       "      <th>2</th>\n",
       "      <td>ba3fd7f7-64bb-4013-b15c-8b575fafaf34</td>\n",
       "      <td>sign_up_initiated</td>\n",
       "      <td>2019-01-17 04:00:00</td>\n",
       "      <td>organic</td>\n",
       "      <td>FRA</td>\n",
       "      <td>android</td>\n",
       "      <td>29</td>\n",
       "      <td>15.0</td>\n",
       "    </tr>\n",
       "    <tr>\n",
       "      <th>4</th>\n",
       "      <td>101f725a-18f6-4cfd-916f-2bb498a6b0a8</td>\n",
       "      <td>sign_up_initiated</td>\n",
       "      <td>2019-01-19 13:00:00</td>\n",
       "      <td>organic</td>\n",
       "      <td>FRA</td>\n",
       "      <td>ios</td>\n",
       "      <td>21</td>\n",
       "      <td>21.0</td>\n",
       "    </tr>\n",
       "    <tr>\n",
       "      <th>6</th>\n",
       "      <td>4f4e7c52-6b0d-4e83-ae65-66db074863f6</td>\n",
       "      <td>sign_up_initiated</td>\n",
       "      <td>2019-01-15 17:00:00</td>\n",
       "      <td>organic</td>\n",
       "      <td>FRA</td>\n",
       "      <td>android</td>\n",
       "      <td>19</td>\n",
       "      <td>16.0</td>\n",
       "    </tr>\n",
       "    <tr>\n",
       "      <th>8</th>\n",
       "      <td>006d3e88-c32f-451b-93e0-7d918e0ced8a</td>\n",
       "      <td>sign_up_initiated</td>\n",
       "      <td>2019-01-23 11:00:00</td>\n",
       "      <td>organic</td>\n",
       "      <td>FRA</td>\n",
       "      <td>ios</td>\n",
       "      <td>24</td>\n",
       "      <td>12.0</td>\n",
       "    </tr>\n",
       "  </tbody>\n",
       "</table>\n",
       "</div>"
      ],
      "text/plain": [
       "                                user_id        funnel_step  \\\n",
       "0  1717ae53-59fa-4f18-8a7f-6a78bf215521  sign_up_initiated   \n",
       "2  ba3fd7f7-64bb-4013-b15c-8b575fafaf34  sign_up_initiated   \n",
       "4  101f725a-18f6-4cfd-916f-2bb498a6b0a8  sign_up_initiated   \n",
       "6  4f4e7c52-6b0d-4e83-ae65-66db074863f6  sign_up_initiated   \n",
       "8  006d3e88-c32f-451b-93e0-7d918e0ced8a  sign_up_initiated   \n",
       "\n",
       "          timestamp_x  channel market platform  age  timestamp_y  \n",
       "0 2019-01-14 20:00:00  organic    FRA      ios   26         12.0  \n",
       "2 2019-01-17 04:00:00  organic    FRA  android   29         15.0  \n",
       "4 2019-01-19 13:00:00  organic    FRA      ios   21         21.0  \n",
       "6 2019-01-15 17:00:00  organic    FRA  android   19         16.0  \n",
       "8 2019-01-23 11:00:00  organic    FRA      ios   24         12.0  "
      ]
     },
     "execution_count": 35,
     "metadata": {},
     "output_type": "execute_result"
    }
   ],
   "source": [
    "## this sell check time required by customers from sign_up_initiated to first_deposit\n",
    "\n",
    "df_funnel_comp2 = df_merged.loc[df_merged['funnel_step'].isin([\"sign_up_initiated\",\"first_deposit\"])]\n",
    "\n",
    "start2 = df_funnel_comp2[df_funnel_comp2[\"funnel_step\"]== \"sign_up_initiated\"].groupby([\"user_id\"])['timestamp'].last()\n",
    "end2 = df_funnel_comp2[df_funnel_comp2[\"funnel_step\"]== \"first_deposit\"].groupby([\"user_id\"])['timestamp'].last()\n",
    "\n",
    "new_frame2 = (end2 - start2).apply(lambda x : x.days ).to_frame().dropna()\n",
    "new_frame_merged2= pd.merge(df_funnel_comp2, new_frame2, on = [\"user_id\"], how='inner')\n",
    "new_frame_merged2 = new_frame_merged2.drop_duplicates(subset=\"user_id\", keep=\"first\")\n",
    "new_frame_merged2.head(5)"
   ]
  },
  {
   "cell_type": "code",
   "execution_count": 36,
   "id": "a778596b",
   "metadata": {},
   "outputs": [
    {
     "data": {
      "text/plain": [
       "<AxesSubplot:xlabel='market', ylabel='timestamp_y'>"
      ]
     },
     "execution_count": 36,
     "metadata": {},
     "output_type": "execute_result"
    },
    {
     "data": {
      "image/png": "[encoded data removed]",
      "text/plain": [
       "<Figure size 576x432 with 1 Axes>"
      ]
     },
     "metadata": {
      "needs_background": "light"
     },
     "output_type": "display_data"
    }
   ],
   "source": [
    "## relation between market and sign_up_initiated to first_deposit\n",
    "plt.figure(figsize=(8,6))\n",
    "sb.boxplot(x=new_frame_merged2[\"market\"],\n",
    "          y=new_frame_merged2[\"timestamp_y\"],\n",
    "          \n",
    "          )"
   ]
  },
  {
   "cell_type": "code",
   "execution_count": 37,
   "id": "80be4f70",
   "metadata": {},
   "outputs": [
    {
     "data": {
      "text/plain": [
       "<AxesSubplot:xlabel='market', ylabel='timestamp_y'>"
      ]
     },
     "execution_count": 37,
     "metadata": {},
     "output_type": "execute_result"
    },
    {
     "data": {
      "image/png": "[encoded data removed]",
      "text/plain": [
       "<Figure size 1080x720 with 1 Axes>"
      ]
     },
     "metadata": {
      "needs_background": "light"
     },
     "output_type": "display_data"
    }
   ],
   "source": [
    "## All the market wise different funnel time frame relations (Y axis in days)\n",
    "\n",
    "plt.figure(figsize=(15,10))\n",
    "sb.boxplot(x=new_frame_merged[\"market\"],\n",
    "          y=new_frame_merged[\"timestamp_y\"],\n",
    "          \n",
    "          )\n",
    "\n",
    "\n",
    "sb.boxplot(x=new_frame_merged1[\"market\"],\n",
    "          y=new_frame_merged1[\"timestamp_y\"],\n",
    "          \n",
    "          )\n",
    "\n",
    "sb.boxplot(x=new_frame_merged2[\"market\"],\n",
    "          y=new_frame_merged2[\"timestamp_y\"],\n",
    "          \n",
    "          )"
   ]
  },
  {
   "cell_type": "code",
   "execution_count": 38,
   "id": "72792f68",
   "metadata": {},
   "outputs": [
    {
     "data": {
      "image/png": "[encoded data removed]",
      "text/plain": [
       "<Figure size 720x432 with 1 Axes>"
      ]
     },
     "metadata": {
      "needs_background": "light"
     },
     "output_type": "display_data"
    }
   ],
   "source": [
    "## mean line graph vs time frame (days) in different market \n",
    "## this is for the sign_up_initiated to first_deposit datasets\n",
    "\n",
    "bins= [17,20,30,50,75,130]\n",
    "labels = ['Teen','Young','Mid-age','Old','Very_old']\n",
    "new_frame_merged2['AgeGroup'] = pd.cut(new_frame_merged2['age'], bins=bins, labels=labels, right=False)\n",
    "# df_unique = new_frame_merged2.copy()\n",
    "stack1 = new_frame_merged2[new_frame_merged2[\"AgeGroup\"]==\"Teen\"].groupby(\"market\")[\"timestamp_y\"].mean()\n",
    "stack2 = new_frame_merged2[new_frame_merged2[\"AgeGroup\"]==\"Teen\"].groupby(\"market\")[\"timestamp_y\"].mean() + new_frame_merged2[new_frame_merged2[\"AgeGroup\"]==\"Young\"].groupby(\"market\")[\"timestamp_y\"].mean()\n",
    "stack3 = stack2 + new_frame_merged2[new_frame_merged2[\"AgeGroup\"].isin(['Mid-age'])].groupby(\"market\")[\"timestamp_y\"].mean()\n",
    "stack4 = stack3 + new_frame_merged2[new_frame_merged2[\"AgeGroup\"].isin(['Old'])].groupby(\"market\")[\"timestamp_y\"].mean()\n",
    "stack5 = stack4 + new_frame_merged2[new_frame_merged2[\"AgeGroup\"].isin(['Very_old'])].groupby(\"market\")[\"timestamp_y\"].mean()\n",
    "\n",
    "\n",
    "\n",
    "plt.figure(figsize=(10,6))\n",
    "plt.axes().set_ylabel('days')\n",
    "\n",
    "bar5 = sb.lineplot(x=stack5.index,  y= stack5.values, color='magenta')\n",
    "bar4 = sb.lineplot(x=stack4.index,  y= stack4.values, color='yellow')\n",
    "bar3 = sb.lineplot(x=stack3.index,  y= stack3.values, color='blue')\n",
    "bar2 = sb.lineplot(x=stack2.index,  y= stack2.values, color='green')\n",
    "bar1 = sb.lineplot(x=stack1.index,  y= stack1.values, color='red')\n",
    "bar_1  = mpatches.Patch(color='red', label='Teen')\n",
    "bar_2  = mpatches.Patch(color='green', label='Young')\n",
    "bar_3  = mpatches.Patch(color='blue', label='Mid-age')\n",
    "bar_4  = mpatches.Patch(color='yellow', label='Old')\n",
    "bar_5  = mpatches.Patch(color='magenta', label='Very_old')\n",
    "plt.legend(handles=[bar_1,bar_2,bar_3,bar_4,bar_5])\n",
    "\n",
    "\n",
    "# show the graph\n",
    "plt.show()"
   ]
  },
  {
   "cell_type": "code",
   "execution_count": 39,
   "id": "d0d79f28",
   "metadata": {},
   "outputs": [
    {
     "data": {
      "image/png": "[encoded data removed]",
      "text/plain": [
       "<Figure size 720x432 with 1 Axes>"
      ]
     },
     "metadata": {
      "needs_background": "light"
     },
     "output_type": "display_data"
    }
   ],
   "source": [
    "## check the age group wise sign_up_initiated to first_deposit datasets vs market\n",
    "\n",
    "\n",
    "stack1 = new_frame_merged2[new_frame_merged2[\"AgeGroup\"]==\"Teen\"].groupby(\"market\")[\"market\"].count()\n",
    "stack2 = new_frame_merged2[new_frame_merged2[\"AgeGroup\"].isin(['Teen','Young'])].groupby(\"market\")[\"market\"].count()\n",
    "stack3 = new_frame_merged2[new_frame_merged2[\"AgeGroup\"].isin(['Teen','Young','Mid-age'])].groupby(\"market\")[\"market\"].count()\n",
    "stack4 = new_frame_merged2[new_frame_merged2[\"AgeGroup\"].isin(['Teen','Young','Mid-age','Old'])].groupby(\"market\")[\"market\"].count()\n",
    "stack5 = new_frame_merged2[new_frame_merged2[\"AgeGroup\"].isin(['Teen','Young','Mid-age','Old','Very_old'])].groupby(\"market\")[\"market\"].count()\n",
    "stack1= (stack1/stack5) *100\n",
    "stack2= (stack2/stack5) *100\n",
    "stack3= (stack3/stack5) *100\n",
    "stack4 = (stack4/stack5) * 100\n",
    "stack5 = (stack5/stack5) * 100\n",
    "\n",
    "\n",
    "plt.figure(figsize=(10,6))\n",
    "\n",
    "bar5 = sb.barplot(x=stack5.index,  y= stack5.values, color='magenta')\n",
    "bar4 = sb.barplot(x=stack4.index,  y= stack4.values, color='yellow')\n",
    "bar3 = sb.barplot(x=stack3.index,  y= stack3.values, color='blue')\n",
    "bar2 = sb.barplot(x=stack2.index,  y= stack2.values, color='green')\n",
    "bar1 = sb.barplot(x=stack1.index,  y= stack1.values, color='red')\n",
    "bar_1  = mpatches.Patch(color='red', label='Teen')\n",
    "bar_2  = mpatches.Patch(color='green', label='Young')\n",
    "bar_3  = mpatches.Patch(color='blue', label='Mid-age')\n",
    "bar_4  = mpatches.Patch(color='yellow', label='Old')\n",
    "bar_5  = mpatches.Patch(color='magenta', label='Very_old')\n",
    "plt.legend(handles=[bar_1,bar_2,bar_3,bar_4,bar_5])\n",
    "\n",
    "\n",
    "# show the graph\n",
    "plt.show()"
   ]
  },
  {
   "cell_type": "code",
   "execution_count": null,
   "id": "cac76055",
   "metadata": {},
   "outputs": [],
   "source": []
  }
 ],
 "metadata": {
  "kernelspec": {
   "display_name": "Python 3",
   "language": "python",
   "name": "python3"
  },
  "language_info": {
   "codemirror_mode": {
    "name": "ipython",
    "version": 3
   },
   "file_extension": ".py",
   "mimetype": "text/x-python",
   "name": "python",
   "nbconvert_exporter": "python",
   "pygments_lexer": "ipython3",
   "version": "3.8.8"
  }
 },
 "nbformat": 4,
 "nbformat_minor": 5
}
